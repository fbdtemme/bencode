{
 "metadata": {
  "language_info": {
   "codemirror_mode": {
    "name": "ipython",
    "version": 3
   },
   "file_extension": ".py",
   "mimetype": "text/x-python",
   "name": "python",
   "nbconvert_exporter": "python",
   "pygments_lexer": "ipython3",
   "version": "3.9.0-final"
  },
  "orig_nbformat": 2,
  "kernelspec": {
   "name": "python3",
   "display_name": "Python 3.9.0 64-bit",
   "metadata": {
    "interpreter": {
     "hash": "e7370f93d1d0cde622a1f8e1c04877d8463912d04d973331ad4851f04de6915a"
    }
   }
  }
 },
 "nbformat": 4,
 "nbformat_minor": 2,
 "cells": [
  {
   "cell_type": "code",
   "execution_count": 87,
   "metadata": {},
   "outputs": [],
   "source": [
    "password = None"
   ]
  },
  {
   "source": [
    "%reload_ext autoreload\n",
    "import pandas as pd\n",
    "import numpy as np\n",
    "import matplotlib.pyplot as plt\n",
    "import json\n",
    "import getpass\n",
    "import pandas as pd\n",
    "import numpy as np\n",
    "\n",
    "from utils import load_json_benchmarks, filter_results, plot_comparison"
   ],
   "cell_type": "code",
   "metadata": {},
   "execution_count": 1,
   "outputs": []
  },
  {
   "cell_type": "code",
   "execution_count": 2,
   "metadata": {},
   "outputs": [],
   "source": [
    "repetitions = 5"
   ]
  },
  {
   "cell_type": "code",
   "execution_count": 10,
   "metadata": {},
   "outputs": [
    {
     "output_type": "error",
     "ename": "NameError",
     "evalue": "name 'password' is not defined",
     "traceback": [
      "\u001b[0;31m---------------------------------------------------------------------------\u001b[0m",
      "\u001b[0;31mNameError\u001b[0m                                 Traceback (most recent call last)",
      "\u001b[0;32m<ipython-input-10-d02ffdc7545c>\u001b[0m in \u001b[0;36m<module>\u001b[0;34m\u001b[0m\n\u001b[0;32m----> 1\u001b[0;31m \u001b[0;32mif\u001b[0m \u001b[0mpassword\u001b[0m \u001b[0;32mis\u001b[0m \u001b[0;32mNone\u001b[0m\u001b[0;34m:\u001b[0m\u001b[0;34m\u001b[0m\u001b[0;34m\u001b[0m\u001b[0m\n\u001b[0m\u001b[1;32m      2\u001b[0m     \u001b[0mpassword\u001b[0m \u001b[0;34m=\u001b[0m \u001b[0mgetpass\u001b[0m\u001b[0;34m.\u001b[0m\u001b[0mgetpass\u001b[0m\u001b[0;34m(\u001b[0m\u001b[0;34m)\u001b[0m\u001b[0;34m\u001b[0m\u001b[0;34m\u001b[0m\u001b[0m\n",
      "\u001b[0;31mNameError\u001b[0m: name 'password' is not defined"
     ]
    }
   ],
   "source": [
    "if password is None:\n",
    "    password = getpass.getpass()"
   ]
  },
  {
   "cell_type": "code",
   "execution_count": 103,
   "metadata": {},
   "outputs": [
    {
     "output_type": "stream",
     "name": "stdout",
     "text": [
      "[sudo] password for fbdtemme: Setting cpu: 0\n",
      "Setting cpu: 1\n",
      "Setting cpu: 2\n",
      "Setting cpu: 3\n",
      "Setting cpu: 4\n",
      "Setting cpu: 5\n",
      "Setting cpu: 6\n",
      "Setting cpu: 7\n"
     ]
    }
   ],
   "source": [
    "# Disable cpu frequency scaling\n",
    "!echo $password | sudo -S cpupower frequency-set -g performance"
   ]
  },
  {
   "cell_type": "code",
   "execution_count": 92,
   "metadata": {},
   "outputs": [
    {
     "output_type": "stream",
     "name": "stdout",
     "text": [
      "2020-12-28T15:22:48+01:00\n",
      "Running ../../cmake-build-release/benchmark/comparison/benchmark-s3rvac-cpp-bencoding\n",
      "Run on (8 X 3800 MHz CPU s)\n",
      "CPU Caches:\n",
      "  L1 Data 32 KiB (x4)\n",
      "  L1 Instruction 32 KiB (x4)\n",
      "  L2 Unified 256 KiB (x4)\n",
      "  L3 Unified 6144 KiB (x1)\n",
      "Load Average: 1.23, 1.64, 2.57\n",
      "----------------------------------------------------------------------------------------------\n",
      "Benchmark                                    Time             CPU   Iterations UserCounters...\n",
      "----------------------------------------------------------------------------------------------\n",
      "\u001b[0;32mBM_decode_value/\"ubuntu\"            \u001b[m\u001b[0;33m    596582 ns       583581 ns   \u001b[m\u001b[0;36m      1026\u001b[m bytes_per_second=120.079M/s\u001b[m\n",
      "\u001b[m\u001b[0;32mBM_decode_value/\"ubuntu\"            \u001b[m\u001b[0;33m    612536 ns       597884 ns   \u001b[m\u001b[0;36m      1026\u001b[m bytes_per_second=117.207M/s\u001b[m\n",
      "\u001b[m\u001b[0;32mBM_decode_value/\"ubuntu\"            \u001b[m\u001b[0;33m    616817 ns       603941 ns   \u001b[m\u001b[0;36m      1026\u001b[m bytes_per_second=116.031M/s\u001b[m\n",
      "\u001b[m\u001b[0;32mBM_decode_value/\"ubuntu\"            \u001b[m\u001b[0;33m    644707 ns       630579 ns   \u001b[m\u001b[0;36m      1026\u001b[m bytes_per_second=111.13M/s\u001b[m\n",
      "\u001b[m\u001b[0;32mBM_decode_value/\"ubuntu\"            \u001b[m\u001b[0;33m    649665 ns       635128 ns   \u001b[m\u001b[0;36m      1026\u001b[m bytes_per_second=110.334M/s\u001b[m\n",
      "\u001b[m\u001b[0;32mBM_decode_value/\"ubuntu\"_mean       \u001b[m\u001b[0;33m    624061 ns       610223 ns   \u001b[m\u001b[0;36m         5\u001b[m bytes_per_second=114.956M/s\u001b[m\n",
      "\u001b[m\u001b[0;32mBM_decode_value/\"ubuntu\"_median     \u001b[m\u001b[0;33m    616817 ns       603941 ns   \u001b[m\u001b[0;36m         5\u001b[m bytes_per_second=116.031M/s\u001b[m\n",
      "\u001b[m\u001b[0;32mBM_decode_value/\"ubuntu\"_stddev     \u001b[m\u001b[0;33m     22485 ns        22001 ns   \u001b[m\u001b[0;36m         5\u001b[m bytes_per_second=4.13758M/s\u001b[m\n",
      "\u001b[m\u001b[0;32mBM_decode_value/\"covid\"             \u001b[m\u001b[0;33m   3157783 ns      3080591 ns   \u001b[m\u001b[0;36m       227\u001b[m bytes_per_second=1074.01k/s\u001b[m\n",
      "\u001b[m\u001b[0;32mBM_decode_value/\"covid\"             \u001b[m\u001b[0;33m   3184864 ns      3122246 ns   \u001b[m\u001b[0;36m       227\u001b[m bytes_per_second=1059.68k/s\u001b[m\n",
      "\u001b[m\u001b[0;32mBM_decode_value/\"covid\"             \u001b[m\u001b[0;33m   3207105 ns      3139753 ns   \u001b[m\u001b[0;36m       227\u001b[m bytes_per_second=1053.78k/s\u001b[m\n",
      "\u001b[m\u001b[0;32mBM_decode_value/\"covid\"             \u001b[m\u001b[0;33m   3159658 ns      3091564 ns   \u001b[m\u001b[0;36m       227\u001b[m bytes_per_second=1070.2k/s\u001b[m\n",
      "\u001b[m\u001b[0;32mBM_decode_value/\"covid\"             \u001b[m\u001b[0;33m   3421420 ns      3340151 ns   \u001b[m\u001b[0;36m       227\u001b[m bytes_per_second=990.552k/s\u001b[m\n",
      "\u001b[m\u001b[0;32mBM_decode_value/\"covid\"_mean        \u001b[m\u001b[0;33m   3226166 ns      3154861 ns   \u001b[m\u001b[0;36m         5\u001b[m bytes_per_second=1049.64k/s\u001b[m\n",
      "\u001b[m\u001b[0;32mBM_decode_value/\"covid\"_median      \u001b[m\u001b[0;33m   3184864 ns      3122246 ns   \u001b[m\u001b[0;36m         5\u001b[m bytes_per_second=1059.68k/s\u001b[m\n",
      "\u001b[m\u001b[0;32mBM_decode_value/\"covid\"_stddev      \u001b[m\u001b[0;33m    111010 ns       106239 ns   \u001b[m\u001b[0;36m         5\u001b[m bytes_per_second=34.0078k/s\u001b[m\n",
      "\u001b[m\u001b[0;32mBM_decode_value/\"camelyon17\"        \u001b[m\u001b[0;33m 197025591 ns    192959673 ns   \u001b[m\u001b[0;36m         4\u001b[m bytes_per_second=35.4328M/s\u001b[m\n",
      "\u001b[m\u001b[0;32mBM_decode_value/\"camelyon17\"        \u001b[m\u001b[0;33m 196649579 ns    192535676 ns   \u001b[m\u001b[0;36m         4\u001b[m bytes_per_second=35.5108M/s\u001b[m\n",
      "\u001b[m\u001b[0;32mBM_decode_value/\"camelyon17\"        \u001b[m\u001b[0;33m 198602271 ns    194506235 ns   \u001b[m\u001b[0;36m         4\u001b[m bytes_per_second=35.151M/s\u001b[m\n",
      "\u001b[m\u001b[0;32mBM_decode_value/\"camelyon17\"        \u001b[m\u001b[0;33m 198202159 ns    194153702 ns   \u001b[m\u001b[0;36m         4\u001b[m bytes_per_second=35.2149M/s\u001b[m\n",
      "\u001b[m\u001b[0;32mBM_decode_value/\"camelyon17\"        \u001b[m\u001b[0;33m 197957627 ns    193835930 ns   \u001b[m\u001b[0;36m         4\u001b[m bytes_per_second=35.2726M/s\u001b[m\n",
      "\u001b[m\u001b[0;32mBM_decode_value/\"camelyon17\"_mean   \u001b[m\u001b[0;33m 197687445 ns    193598243 ns   \u001b[m\u001b[0;36m         5\u001b[m bytes_per_second=35.3164M/s\u001b[m\n",
      "\u001b[m\u001b[0;32mBM_decode_value/\"camelyon17\"_median \u001b[m\u001b[0;33m 197957627 ns    193835930 ns   \u001b[m\u001b[0;36m         5\u001b[m bytes_per_second=35.2726M/s\u001b[m\n",
      "\u001b[m\u001b[0;32mBM_decode_value/\"camelyon17\"_stddev \u001b[m\u001b[0;33m    820069 ns       825575 ns   \u001b[m\u001b[0;36m         5\u001b[m bytes_per_second=154.372k/s\u001b[m\n",
      "\u001b[m\u001b[0;32mBM_decode_value/\"pneumonia\"         \u001b[m\u001b[0;33m4334970693 ns   4214020361 ns   \u001b[m\u001b[0;36m         1\u001b[m bytes_per_second=660.316k/s\u001b[m\n",
      "\u001b[m\u001b[0;32mBM_decode_value/\"pneumonia\"         \u001b[m\u001b[0;33m4393762294 ns   4274382472 ns   \u001b[m\u001b[0;36m         1\u001b[m bytes_per_second=650.991k/s\u001b[m\n",
      "\u001b[m\u001b[0;32mBM_decode_value/\"pneumonia\"         \u001b[m\u001b[0;33m4568484247 ns   4458109039 ns   \u001b[m\u001b[0;36m         1\u001b[m bytes_per_second=624.163k/s\u001b[m\n",
      "\u001b[m\u001b[0;32mBM_decode_value/\"pneumonia\"         \u001b[m\u001b[0;33m4321633587 ns   4236523742 ns   \u001b[m\u001b[0;36m         1\u001b[m bytes_per_second=656.809k/s\u001b[m\n",
      "\u001b[m\u001b[0;32mBM_decode_value/\"pneumonia\"         \u001b[m\u001b[0;33m4338263223 ns   4200113926 ns   \u001b[m\u001b[0;36m         1\u001b[m bytes_per_second=662.502k/s\u001b[m\n",
      "\u001b[m\u001b[0;32mBM_decode_value/\"pneumonia\"_mean    \u001b[m\u001b[0;33m4391422809 ns   4276629908 ns   \u001b[m\u001b[0;36m         5\u001b[m bytes_per_second=650.956k/s\u001b[m\n",
      "\u001b[m\u001b[0;32mBM_decode_value/\"pneumonia\"_median  \u001b[m\u001b[0;33m4338263223 ns   4236523742 ns   \u001b[m\u001b[0;36m         5\u001b[m bytes_per_second=656.809k/s\u001b[m\n",
      "\u001b[m\u001b[0;32mBM_decode_value/\"pneumonia\"_stddev  \u001b[m\u001b[0;33m 102761307 ns    105265001 ns   \u001b[m\u001b[0;36m         5\u001b[m bytes_per_second=15.597k/s\u001b[m\n",
      "\u001b[m\u001b[0;32mBM_decode_value/\"integers\"          \u001b[m\u001b[0;33m1409310672 ns   1380805013 ns   \u001b[m\u001b[0;36m         1\u001b[m bytes_per_second=151.103k/s\u001b[m\n",
      "\u001b[m\u001b[0;32mBM_decode_value/\"integers\"          \u001b[m\u001b[0;33m1438461578 ns   1411049792 ns   \u001b[m\u001b[0;36m         1\u001b[m bytes_per_second=147.864k/s\u001b[m\n",
      "\u001b[m\u001b[0;32mBM_decode_value/\"integers\"          \u001b[m\u001b[0;33m1458493971 ns   1420573190 ns   \u001b[m\u001b[0;36m         1\u001b[m bytes_per_second=146.873k/s\u001b[m\n",
      "\u001b[m\u001b[0;32mBM_decode_value/\"integers\"          \u001b[m\u001b[0;33m1443036007 ns   1409880165 ns   \u001b[m\u001b[0;36m         1\u001b[m bytes_per_second=147.987k/s\u001b[m\n",
      "\u001b[m\u001b[0;32mBM_decode_value/\"integers\"          \u001b[m\u001b[0;33m1495875507 ns   1405548183 ns   \u001b[m\u001b[0;36m         1\u001b[m bytes_per_second=148.443k/s\u001b[m\n",
      "\u001b[m\u001b[0;32mBM_decode_value/\"integers\"_mean     \u001b[m\u001b[0;33m1449035547 ns   1405571269 ns   \u001b[m\u001b[0;36m         5\u001b[m bytes_per_second=148.454k/s\u001b[m\n",
      "\u001b[m\u001b[0;32mBM_decode_value/\"integers\"_median   \u001b[m\u001b[0;33m1443036007 ns   1409880165 ns   \u001b[m\u001b[0;36m         5\u001b[m bytes_per_second=147.987k/s\u001b[m\n",
      "\u001b[m\u001b[0;32mBM_decode_value/\"integers\"_stddev   \u001b[m\u001b[0;33m  31659567 ns     14891326 ns   \u001b[m\u001b[0;36m         5\u001b[m bytes_per_second=1.58769k/s\u001b[m\n",
      "\u001b[m"
     ]
    }
   ],
   "source": [
    "!../../cmake-build-release/benchmark/comparison/benchmark-s3rvac-cpp-bencoding \\\n",
    "    --benchmark_repetitions=$repetitions \\\n",
    "    --benchmark_out_format=json \\\n",
    "    --benchmark_out=\"benchmark-s3rvac-cpp-bencoding.json\""
   ]
  },
  {
   "cell_type": "code",
   "execution_count": 116,
   "metadata": {
    "tags": []
   },
   "outputs": [
    {
     "output_type": "stream",
     "name": "stdout",
     "text": [
      "2020-12-28T15:31:49+01:00\n",
      "Running ../../cmake-build-release/benchmark/comparison/benchmark-jimporter-bencode\n",
      "Run on (8 X 3800 MHz CPU s)\n",
      "CPU Caches:\n",
      "  L1 Data 32 KiB (x4)\n",
      "  L1 Instruction 32 KiB (x4)\n",
      "  L2 Unified 256 KiB (x4)\n",
      "  L3 Unified 6144 KiB (x1)\n",
      "Load Average: 2.38, 2.69, 2.78\n",
      "----------------------------------------------------------------------------------------------\n",
      "Benchmark                                    Time             CPU   Iterations UserCounters...\n",
      "----------------------------------------------------------------------------------------------\n",
      "\u001b[0;32mBM_decode_value/\"ubuntu\"            \u001b[m\u001b[0;33m      7861 ns         7657 ns   \u001b[m\u001b[0;36m     75582\u001b[m bytes_per_second=8.9377G/s\u001b[m\n",
      "\u001b[m\u001b[0;32mBM_decode_value/\"ubuntu\"            \u001b[m\u001b[0;33m      8684 ns         8266 ns   \u001b[m\u001b[0;36m     75582\u001b[m bytes_per_second=8.2787G/s\u001b[m\n",
      "\u001b[m\u001b[0;32mBM_decode_value/\"ubuntu\"            \u001b[m\u001b[0;33m      7476 ns         7337 ns   \u001b[m\u001b[0;36m     75582\u001b[m bytes_per_second=9.32749G/s\u001b[m\n",
      "\u001b[m\u001b[0;32mBM_decode_value/\"ubuntu\"            \u001b[m\u001b[0;33m      8204 ns         8028 ns   \u001b[m\u001b[0;36m     75582\u001b[m bytes_per_second=8.52476G/s\u001b[m\n",
      "\u001b[m\u001b[0;32mBM_decode_value/\"ubuntu\"            \u001b[m\u001b[0;33m      8079 ns         7916 ns   \u001b[m\u001b[0;36m     75582\u001b[m bytes_per_second=8.64485G/s\u001b[m\n",
      "\u001b[m\u001b[0;32mBM_decode_value/\"ubuntu\"_mean       \u001b[m\u001b[0;33m      8061 ns         7841 ns   \u001b[m\u001b[0;36m         5\u001b[m bytes_per_second=8.7427G/s\u001b[m\n",
      "\u001b[m\u001b[0;32mBM_decode_value/\"ubuntu\"_median     \u001b[m\u001b[0;33m      8079 ns         7916 ns   \u001b[m\u001b[0;36m         5\u001b[m bytes_per_second=8.64485G/s\u001b[m\n",
      "\u001b[m\u001b[0;32mBM_decode_value/\"ubuntu\"_stddev     \u001b[m\u001b[0;33m       445 ns          357 ns   \u001b[m\u001b[0;36m         5\u001b[m bytes_per_second=413.54M/s\u001b[m\n",
      "\u001b[m\u001b[0;32mBM_decode_value/\"covid\"             \u001b[m\u001b[0;33m     23623 ns        22978 ns   \u001b[m\u001b[0;36m     26984\u001b[m bytes_per_second=140.617M/s\u001b[m\n",
      "\u001b[m\u001b[0;32mBM_decode_value/\"covid\"             \u001b[m\u001b[0;33m     20657 ns        20371 ns   \u001b[m\u001b[0;36m     26984\u001b[m bytes_per_second=158.612M/s\u001b[m\n",
      "\u001b[m\u001b[0;32mBM_decode_value/\"covid\"             \u001b[m\u001b[0;33m     21741 ns        21353 ns   \u001b[m\u001b[0;36m     26984\u001b[m bytes_per_second=151.315M/s\u001b[m\n",
      "\u001b[m\u001b[0;32mBM_decode_value/\"covid\"             \u001b[m\u001b[0;33m     24262 ns        23725 ns   \u001b[m\u001b[0;36m     26984\u001b[m bytes_per_second=136.189M/s\u001b[m\n",
      "\u001b[m\u001b[0;32mBM_decode_value/\"covid\"             \u001b[m\u001b[0;33m     23987 ns        23497 ns   \u001b[m\u001b[0;36m     26984\u001b[m bytes_per_second=137.512M/s\u001b[m\n",
      "\u001b[m\u001b[0;32mBM_decode_value/\"covid\"_mean        \u001b[m\u001b[0;33m     22854 ns        22385 ns   \u001b[m\u001b[0;36m         5\u001b[m bytes_per_second=144.849M/s\u001b[m\n",
      "\u001b[m\u001b[0;32mBM_decode_value/\"covid\"_median      \u001b[m\u001b[0;33m     23623 ns        22978 ns   \u001b[m\u001b[0;36m         5\u001b[m bytes_per_second=140.617M/s\u001b[m\n",
      "\u001b[m\u001b[0;32mBM_decode_value/\"covid\"_stddev      \u001b[m\u001b[0;33m      1575 ns         1458 ns   \u001b[m\u001b[0;36m         5\u001b[m bytes_per_second=9.72068M/s\u001b[m\n",
      "\u001b[m\u001b[0;32mBM_decode_value/\"camelyon17\"        \u001b[m\u001b[0;33m   4665846 ns      4557857 ns   \u001b[m\u001b[0;36m       154\u001b[m bytes_per_second=1.46491G/s\u001b[m\n",
      "\u001b[m\u001b[0;32mBM_decode_value/\"camelyon17\"        \u001b[m\u001b[0;33m   4149517 ns      4020599 ns   \u001b[m\u001b[0;36m       154\u001b[m bytes_per_second=1.66066G/s\u001b[m\n",
      "\u001b[m\u001b[0;32mBM_decode_value/\"camelyon17\"        \u001b[m\u001b[0;33m   4189248 ns      4101903 ns   \u001b[m\u001b[0;36m       154\u001b[m bytes_per_second=1.62774G/s\u001b[m\n",
      "\u001b[m\u001b[0;32mBM_decode_value/\"camelyon17\"        \u001b[m\u001b[0;33m   5027741 ns      4896860 ns   \u001b[m\u001b[0;36m       154\u001b[m bytes_per_second=1.3635G/s\u001b[m\n",
      "\u001b[m\u001b[0;32mBM_decode_value/\"camelyon17\"        \u001b[m\u001b[0;33m   4763787 ns      4574827 ns   \u001b[m\u001b[0;36m       154\u001b[m bytes_per_second=1.45948G/s\u001b[m\n",
      "\u001b[m\u001b[0;32mBM_decode_value/\"camelyon17\"_mean   \u001b[m\u001b[0;33m   4559228 ns      4430409 ns   \u001b[m\u001b[0;36m         5\u001b[m bytes_per_second=1.51526G/s\u001b[m\n",
      "\u001b[m\u001b[0;32mBM_decode_value/\"camelyon17\"_median \u001b[m\u001b[0;33m   4665846 ns      4557857 ns   \u001b[m\u001b[0;36m         5\u001b[m bytes_per_second=1.46491G/s\u001b[m\n",
      "\u001b[m\u001b[0;32mBM_decode_value/\"camelyon17\"_stddev \u001b[m\u001b[0;33m    379956 ns       364190 ns   \u001b[m\u001b[0;36m         5\u001b[m bytes_per_second=127.973M/s\u001b[m\n",
      "\u001b[m\u001b[0;32mBM_decode_value/\"pneumonia\"         \u001b[m\u001b[0;33m  70809781 ns     69526549 ns   \u001b[m\u001b[0;36m         8\u001b[m bytes_per_second=39.0839M/s\u001b[m\n",
      "\u001b[m\u001b[0;32mBM_decode_value/\"pneumonia\"         \u001b[m\u001b[0;33m  67360822 ns     66094385 ns   \u001b[m\u001b[0;36m         8\u001b[m bytes_per_second=41.1135M/s\u001b[m\n",
      "\u001b[m\u001b[0;32mBM_decode_value/\"pneumonia\"         \u001b[m\u001b[0;33m  67157830 ns     65870268 ns   \u001b[m\u001b[0;36m         8\u001b[m bytes_per_second=41.2533M/s\u001b[m\n",
      "\u001b[m\u001b[0;32mBM_decode_value/\"pneumonia\"         \u001b[m\u001b[0;33m  66155271 ns     64886229 ns   \u001b[m\u001b[0;36m         8\u001b[m bytes_per_second=41.879M/s\u001b[m\n",
      "\u001b[m\u001b[0;32mBM_decode_value/\"pneumonia\"         \u001b[m\u001b[0;33m  68742616 ns     67375941 ns   \u001b[m\u001b[0;36m         8\u001b[m bytes_per_second=40.3314M/s\u001b[m\n",
      "\u001b[m\u001b[0;32mBM_decode_value/\"pneumonia\"_mean    \u001b[m\u001b[0;33m  68045264 ns     66750675 ns   \u001b[m\u001b[0;36m         5\u001b[m bytes_per_second=40.7322M/s\u001b[m\n",
      "\u001b[m\u001b[0;32mBM_decode_value/\"pneumonia\"_median  \u001b[m\u001b[0;33m  67360822 ns     66094385 ns   \u001b[m\u001b[0;36m         5\u001b[m bytes_per_second=41.1135M/s\u001b[m\n",
      "\u001b[m\u001b[0;32mBM_decode_value/\"pneumonia\"_stddev  \u001b[m\u001b[0;33m   1799787 ns      1787346 ns   \u001b[m\u001b[0;36m         5\u001b[m bytes_per_second=1099.26k/s\u001b[m\n",
      "\u001b[m\u001b[0;32mBM_decode_value/\"integers\"          \u001b[m\u001b[0;33m    662834 ns       649399 ns   \u001b[m\u001b[0;36m      1121\u001b[m bytes_per_second=313.757M/s\u001b[m\n",
      "\u001b[m\u001b[0;32mBM_decode_value/\"integers\"          \u001b[m\u001b[0;33m    622631 ns       610056 ns   \u001b[m\u001b[0;36m      1121\u001b[m bytes_per_second=333.992M/s\u001b[m\n",
      "\u001b[m\u001b[0;32mBM_decode_value/\"integers\"          \u001b[m\u001b[0;33m    679291 ns       658137 ns   \u001b[m\u001b[0;36m      1121\u001b[m bytes_per_second=309.591M/s\u001b[m\n",
      "\u001b[m\u001b[0;32mBM_decode_value/\"integers\"          \u001b[m\u001b[0;33m    671235 ns       645582 ns   \u001b[m\u001b[0;36m      1121\u001b[m bytes_per_second=315.612M/s\u001b[m\n",
      "\u001b[m\u001b[0;32mBM_decode_value/\"integers\"          \u001b[m\u001b[0;33m    635064 ns       620598 ns   \u001b[m\u001b[0;36m      1121\u001b[m bytes_per_second=328.318M/s\u001b[m\n",
      "\u001b[m\u001b[0;32mBM_decode_value/\"integers\"_mean     \u001b[m\u001b[0;33m    654211 ns       636754 ns   \u001b[m\u001b[0;36m         5\u001b[m bytes_per_second=320.254M/s\u001b[m\n",
      "\u001b[m\u001b[0;32mBM_decode_value/\"integers\"_median   \u001b[m\u001b[0;33m    662834 ns       645582 ns   \u001b[m\u001b[0;36m         5\u001b[m bytes_per_second=315.612M/s\u001b[m\n",
      "\u001b[m\u001b[0;32mBM_decode_value/\"integers\"_stddev   \u001b[m\u001b[0;33m     24275 ns        20426 ns   \u001b[m\u001b[0;36m         5\u001b[m bytes_per_second=10.3828M/s\u001b[m\n",
      "\u001b[m\u001b[0;32mBM_decode_view/\"ubuntu\"             \u001b[m\u001b[0;33m      1142 ns         1118 ns   \u001b[m\u001b[0;36m    625643\u001b[m bytes_per_second=61.1966G/s\u001b[m\n",
      "\u001b[m\u001b[0;32mBM_decode_view/\"ubuntu\"             \u001b[m\u001b[0;33m      1097 ns         1076 ns   \u001b[m\u001b[0;36m    625643\u001b[m bytes_per_second=63.5722G/s\u001b[m\n",
      "\u001b[m\u001b[0;32mBM_decode_view/\"ubuntu\"             \u001b[m\u001b[0;33m      1093 ns         1072 ns   \u001b[m\u001b[0;36m    625643\u001b[m bytes_per_second=63.8125G/s\u001b[m\n",
      "\u001b[m\u001b[0;32mBM_decode_view/\"ubuntu\"             \u001b[m\u001b[0;33m      1145 ns         1121 ns   \u001b[m\u001b[0;36m    625643\u001b[m bytes_per_second=61.0545G/s\u001b[m\n",
      "\u001b[m\u001b[0;32mBM_decode_view/\"ubuntu\"             \u001b[m\u001b[0;33m      1090 ns         1069 ns   \u001b[m\u001b[0;36m    625643\u001b[m bytes_per_second=64.0446G/s\u001b[m\n",
      "\u001b[m\u001b[0;32mBM_decode_view/\"ubuntu\"_mean        \u001b[m\u001b[0;33m      1113 ns         1091 ns   \u001b[m\u001b[0;36m         5\u001b[m bytes_per_second=62.7361G/s\u001b[m\n",
      "\u001b[m\u001b[0;32mBM_decode_view/\"ubuntu\"_median      \u001b[m\u001b[0;33m      1097 ns         1076 ns   \u001b[m\u001b[0;36m         5\u001b[m bytes_per_second=63.5722G/s\u001b[m\n",
      "\u001b[m\u001b[0;32mBM_decode_view/\"ubuntu\"_stddev      \u001b[m\u001b[0;33m      27.4 ns         26.0 ns   \u001b[m\u001b[0;36m         5\u001b[m bytes_per_second=1.48051G/s\u001b[m\n",
      "\u001b[m\u001b[0;32mBM_decode_view/\"covid\"              \u001b[m\u001b[0;33m     13950 ns        13303 ns   \u001b[m\u001b[0;36m     52229\u001b[m bytes_per_second=242.877M/s\u001b[m\n",
      "\u001b[m\u001b[0;32mBM_decode_view/\"covid\"              \u001b[m\u001b[0;33m     13346 ns        13097 ns   \u001b[m\u001b[0;36m     52229\u001b[m bytes_per_second=246.698M/s\u001b[m\n",
      "\u001b[m\u001b[0;32mBM_decode_view/\"covid\"              \u001b[m\u001b[0;33m     13699 ns        13436 ns   \u001b[m\u001b[0;36m     52229\u001b[m bytes_per_second=240.474M/s\u001b[m\n",
      "\u001b[m\u001b[0;32mBM_decode_view/\"covid\"              \u001b[m\u001b[0;33m     13484 ns        13213 ns   \u001b[m\u001b[0;36m     52229\u001b[m bytes_per_second=244.53M/s\u001b[m\n",
      "\u001b[m\u001b[0;32mBM_decode_view/\"covid\"              \u001b[m\u001b[0;33m     13113 ns        12849 ns   \u001b[m\u001b[0;36m     52229\u001b[m bytes_per_second=251.464M/s\u001b[m\n",
      "\u001b[m\u001b[0;32mBM_decode_view/\"covid\"_mean         \u001b[m\u001b[0;33m     13518 ns        13180 ns   \u001b[m\u001b[0;36m         5\u001b[m bytes_per_second=245.209M/s\u001b[m\n",
      "\u001b[m\u001b[0;32mBM_decode_view/\"covid\"_median       \u001b[m\u001b[0;33m     13484 ns        13213 ns   \u001b[m\u001b[0;36m         5\u001b[m bytes_per_second=244.53M/s\u001b[m\n",
      "\u001b[m\u001b[0;32mBM_decode_view/\"covid\"_stddev       \u001b[m\u001b[0;33m       322 ns          223 ns   \u001b[m\u001b[0;36m         5\u001b[m bytes_per_second=4.17325M/s\u001b[m\n",
      "\u001b[m\u001b[0;32mBM_decode_view/\"camelyon17\"         \u001b[m\u001b[0;33m   1570625 ns      1539045 ns   \u001b[m\u001b[0;36m       471\u001b[m bytes_per_second=4.33831G/s\u001b[m\n",
      "\u001b[m\u001b[0;32mBM_decode_view/\"camelyon17\"         \u001b[m\u001b[0;33m   1473175 ns      1443178 ns   \u001b[m\u001b[0;36m       471\u001b[m bytes_per_second=4.62649G/s\u001b[m\n",
      "\u001b[m\u001b[0;32mBM_decode_view/\"camelyon17\"         \u001b[m\u001b[0;33m   1501777 ns      1471418 ns   \u001b[m\u001b[0;36m       471\u001b[m bytes_per_second=4.5377G/s\u001b[m\n",
      "\u001b[m\u001b[0;32mBM_decode_view/\"camelyon17\"         \u001b[m\u001b[0;33m   1500292 ns      1470164 ns   \u001b[m\u001b[0;36m       471\u001b[m bytes_per_second=4.54157G/s\u001b[m\n",
      "\u001b[m\u001b[0;32mBM_decode_view/\"camelyon17\"         \u001b[m\u001b[0;33m   1431833 ns      1405013 ns   \u001b[m\u001b[0;36m       471\u001b[m bytes_per_second=4.75216G/s\u001b[m\n",
      "\u001b[m\u001b[0;32mBM_decode_view/\"camelyon17\"_mean    \u001b[m\u001b[0;33m   1495540 ns      1465764 ns   \u001b[m\u001b[0;36m         5\u001b[m bytes_per_second=4.55925G/s\u001b[m\n",
      "\u001b[m\u001b[0;32mBM_decode_view/\"camelyon17\"_median  \u001b[m\u001b[0;33m   1500292 ns      1470164 ns   \u001b[m\u001b[0;36m         5\u001b[m bytes_per_second=4.54157G/s\u001b[m\n",
      "\u001b[m\u001b[0;32mBM_decode_view/\"camelyon17\"_stddev  \u001b[m\u001b[0;33m     50641 ns        49047 ns   \u001b[m\u001b[0;36m         5\u001b[m bytes_per_second=154.731M/s\u001b[m\n",
      "\u001b[m\u001b[0;32mBM_decode_view/\"pneumonia\"          \u001b[m\u001b[0;33m  37230130 ns     36436700 ns   \u001b[m\u001b[0;36m        20\u001b[m bytes_per_second=74.5778M/s\u001b[m\n",
      "\u001b[m\u001b[0;32mBM_decode_view/\"pneumonia\"          \u001b[m\u001b[0;33m  38737849 ns     37667885 ns   \u001b[m\u001b[0;36m        20\u001b[m bytes_per_second=72.1402M/s\u001b[m\n",
      "\u001b[m\u001b[0;32mBM_decode_view/\"pneumonia\"          \u001b[m\u001b[0;33m  39137795 ns     38059721 ns   \u001b[m\u001b[0;36m        20\u001b[m bytes_per_second=71.3975M/s\u001b[m\n",
      "\u001b[m\u001b[0;32mBM_decode_view/\"pneumonia\"          \u001b[m\u001b[0;33m  38785708 ns     37686213 ns   \u001b[m\u001b[0;36m        20\u001b[m bytes_per_second=72.1051M/s\u001b[m\n",
      "\u001b[m\u001b[0;32mBM_decode_view/\"pneumonia\"          \u001b[m\u001b[0;33m  37171420 ns     36419053 ns   \u001b[m\u001b[0;36m        20\u001b[m bytes_per_second=74.6139M/s\u001b[m\n",
      "\u001b[m\u001b[0;32mBM_decode_view/\"pneumonia\"_mean     \u001b[m\u001b[0;33m  38212581 ns     37253915 ns   \u001b[m\u001b[0;36m         5\u001b[m bytes_per_second=72.9669M/s\u001b[m\n",
      "\u001b[m\u001b[0;32mBM_decode_view/\"pneumonia\"_median   \u001b[m\u001b[0;33m  38737849 ns     37667885 ns   \u001b[m\u001b[0;36m         5\u001b[m bytes_per_second=72.1402M/s\u001b[m\n",
      "\u001b[m\u001b[0;32mBM_decode_view/\"pneumonia\"_stddev   \u001b[m\u001b[0;33m    936700 ns       770131 ns   \u001b[m\u001b[0;36m         5\u001b[m bytes_per_second=1.51631M/s\u001b[m\n",
      "\u001b[m\u001b[0;32mBM_decode_view/\"integers\"           \u001b[m\u001b[0;33m    523732 ns       512527 ns   \u001b[m\u001b[0;36m      1257\u001b[m bytes_per_second=397.547M/s\u001b[m\n",
      "\u001b[m\u001b[0;32mBM_decode_view/\"integers\"           \u001b[m\u001b[0;33m    516107 ns       502619 ns   \u001b[m\u001b[0;36m      1257\u001b[m bytes_per_second=405.384M/s\u001b[m\n",
      "\u001b[m\u001b[0;32mBM_decode_view/\"integers\"           \u001b[m\u001b[0;33m    534608 ns       523319 ns   \u001b[m\u001b[0;36m      1257\u001b[m bytes_per_second=389.348M/s\u001b[m\n",
      "\u001b[m\u001b[0;32mBM_decode_view/\"integers\"           \u001b[m\u001b[0;33m    542642 ns       533209 ns   \u001b[m\u001b[0;36m      1257\u001b[m bytes_per_second=382.127M/s\u001b[m\n",
      "\u001b[m\u001b[0;32mBM_decode_view/\"integers\"           \u001b[m\u001b[0;33m    510769 ns       504717 ns   \u001b[m\u001b[0;36m      1257\u001b[m bytes_per_second=403.699M/s\u001b[m\n",
      "\u001b[m\u001b[0;32mBM_decode_view/\"integers\"_mean      \u001b[m\u001b[0;33m    525572 ns       515278 ns   \u001b[m\u001b[0;36m         5\u001b[m bytes_per_second=395.621M/s\u001b[m\n",
      "\u001b[m\u001b[0;32mBM_decode_view/\"integers\"_median    \u001b[m\u001b[0;33m    523732 ns       512527 ns   \u001b[m\u001b[0;36m         5\u001b[m bytes_per_second=397.547M/s\u001b[m\n",
      "\u001b[m\u001b[0;32mBM_decode_view/\"integers\"_stddev    \u001b[m\u001b[0;33m     13088 ns        12899 ns   \u001b[m\u001b[0;36m         5\u001b[m bytes_per_second=9.81965M/s\u001b[m\n",
      "\u001b[m"
     ]
    }
   ],
   "source": [
    "!../../cmake-build-release/benchmark/comparison/benchmark-jimporter-bencode \\\n",
    "    --benchmark_repetitions=$repetitions \\\n",
    "    --benchmark_out_format=json \\\n",
    "    --benchmark_out=\"benchmark-jimporter-bencode.json\""
   ]
  },
  {
   "cell_type": "code",
   "execution_count": 117,
   "metadata": {},
   "outputs": [
    {
     "output_type": "stream",
     "name": "stdout",
     "text": [
      "2020-12-28T15:32:26+01:00\n",
      "Running ../../cmake-build-release/benchmark/comparison/benchmark-arvidn-libtorrent\n",
      "Run on (8 X 3800 MHz CPU s)\n",
      "CPU Caches:\n",
      "  L1 Data 32 KiB (x4)\n",
      "  L1 Instruction 32 KiB (x4)\n",
      "  L2 Unified 256 KiB (x4)\n",
      "  L3 Unified 6144 KiB (x1)\n",
      "Load Average: 2.92, 2.80, 2.81\n",
      "---------------------------------------------------------------------------------------------\n",
      "Benchmark                                   Time             CPU   Iterations UserCounters...\n",
      "---------------------------------------------------------------------------------------------\n",
      "\u001b[0;32mBM_decode_view/\"ubuntu\"            \u001b[m\u001b[0;33m       641 ns          635 ns   \u001b[m\u001b[0;36m    918710\u001b[m bytes_per_second=107.725G/s\u001b[m\n",
      "\u001b[m\u001b[0;32mBM_decode_view/\"ubuntu\"            \u001b[m\u001b[0;33m       717 ns          709 ns   \u001b[m\u001b[0;36m    918710\u001b[m bytes_per_second=96.5411G/s\u001b[m\n",
      "\u001b[m\u001b[0;32mBM_decode_view/\"ubuntu\"            \u001b[m\u001b[0;33m       688 ns          678 ns   \u001b[m\u001b[0;36m    918710\u001b[m bytes_per_second=100.896G/s\u001b[m\n",
      "\u001b[m\u001b[0;32mBM_decode_view/\"ubuntu\"            \u001b[m\u001b[0;33m       640 ns          633 ns   \u001b[m\u001b[0;36m    918710\u001b[m bytes_per_second=108.045G/s\u001b[m\n",
      "\u001b[m\u001b[0;32mBM_decode_view/\"ubuntu\"            \u001b[m\u001b[0;33m       654 ns          647 ns   \u001b[m\u001b[0;36m    918710\u001b[m bytes_per_second=105.776G/s\u001b[m\n",
      "\u001b[m\u001b[0;32mBM_decode_view/\"ubuntu\"_mean       \u001b[m\u001b[0;33m       668 ns          661 ns   \u001b[m\u001b[0;36m         5\u001b[m bytes_per_second=103.796G/s\u001b[m\n",
      "\u001b[m\u001b[0;32mBM_decode_view/\"ubuntu\"_median     \u001b[m\u001b[0;33m       654 ns          647 ns   \u001b[m\u001b[0;36m         5\u001b[m bytes_per_second=105.776G/s\u001b[m\n",
      "\u001b[m\u001b[0;32mBM_decode_view/\"ubuntu\"_stddev     \u001b[m\u001b[0;33m      33.5 ns         32.4 ns   \u001b[m\u001b[0;36m         5\u001b[m bytes_per_second=4.96126G/s\u001b[m\n",
      "\u001b[m\u001b[0;32mBM_decode_view/\"covid\"             \u001b[m\u001b[0;33m      2948 ns         2915 ns   \u001b[m\u001b[0;36m    234311\u001b[m bytes_per_second=1108.54M/s\u001b[m\n",
      "\u001b[m\u001b[0;32mBM_decode_view/\"covid\"             \u001b[m\u001b[0;33m      2994 ns         2960 ns   \u001b[m\u001b[0;36m    234311\u001b[m bytes_per_second=1091.7M/s\u001b[m\n",
      "\u001b[m\u001b[0;32mBM_decode_view/\"covid\"             \u001b[m\u001b[0;33m      3067 ns         3031 ns   \u001b[m\u001b[0;36m    234311\u001b[m bytes_per_second=1066.12M/s\u001b[m\n",
      "\u001b[m\u001b[0;32mBM_decode_view/\"covid\"             \u001b[m\u001b[0;33m      2949 ns         2916 ns   \u001b[m\u001b[0;36m    234311\u001b[m bytes_per_second=1108.23M/s\u001b[m\n",
      "\u001b[m\u001b[0;32mBM_decode_view/\"covid\"             \u001b[m\u001b[0;33m      3042 ns         3008 ns   \u001b[m\u001b[0;36m    234311\u001b[m bytes_per_second=1074.11M/s\u001b[m\n",
      "\u001b[m\u001b[0;32mBM_decode_view/\"covid\"_mean        \u001b[m\u001b[0;33m      3000 ns         2966 ns   \u001b[m\u001b[0;36m         5\u001b[m bytes_per_second=1089.74M/s\u001b[m\n",
      "\u001b[m\u001b[0;32mBM_decode_view/\"covid\"_median      \u001b[m\u001b[0;33m      2994 ns         2960 ns   \u001b[m\u001b[0;36m         5\u001b[m bytes_per_second=1091.7M/s\u001b[m\n",
      "\u001b[m\u001b[0;32mBM_decode_view/\"covid\"_stddev      \u001b[m\u001b[0;33m      53.7 ns         52.9 ns   \u001b[m\u001b[0;36m         5\u001b[m bytes_per_second=19.3741M/s\u001b[m\n",
      "\u001b[m\u001b[0;32mBM_decode_view/\"camelyon17\"        \u001b[m\u001b[0;33m    146580 ns       144922 ns   \u001b[m\u001b[0;36m      4837\u001b[m bytes_per_second=46.0721G/s\u001b[m\n",
      "\u001b[m\u001b[0;32mBM_decode_view/\"camelyon17\"        \u001b[m\u001b[0;33m    147824 ns       146113 ns   \u001b[m\u001b[0;36m      4837\u001b[m bytes_per_second=45.6966G/s\u001b[m\n",
      "\u001b[m\u001b[0;32mBM_decode_view/\"camelyon17\"        \u001b[m\u001b[0;33m    148009 ns       146310 ns   \u001b[m\u001b[0;36m      4837\u001b[m bytes_per_second=45.6349G/s\u001b[m\n",
      "\u001b[m\u001b[0;32mBM_decode_view/\"camelyon17\"        \u001b[m\u001b[0;33m    152642 ns       150828 ns   \u001b[m\u001b[0;36m      4837\u001b[m bytes_per_second=44.2681G/s\u001b[m\n",
      "\u001b[m\u001b[0;32mBM_decode_view/\"camelyon17\"        \u001b[m\u001b[0;33m    151205 ns       149425 ns   \u001b[m\u001b[0;36m      4837\u001b[m bytes_per_second=44.6837G/s\u001b[m\n",
      "\u001b[m\u001b[0;32mBM_decode_view/\"camelyon17\"_mean   \u001b[m\u001b[0;33m    149252 ns       147519 ns   \u001b[m\u001b[0;36m         5\u001b[m bytes_per_second=45.2711G/s\u001b[m\n",
      "\u001b[m\u001b[0;32mBM_decode_view/\"camelyon17\"_median \u001b[m\u001b[0;33m    148009 ns       146310 ns   \u001b[m\u001b[0;36m         5\u001b[m bytes_per_second=45.6349G/s\u001b[m\n",
      "\u001b[m\u001b[0;32mBM_decode_view/\"camelyon17\"_stddev \u001b[m\u001b[0;33m      2551 ns         2488 ns   \u001b[m\u001b[0;36m         5\u001b[m bytes_per_second=777.525M/s\u001b[m\n",
      "\u001b[m\u001b[0;32mBM_decode_view/\"pneumonia\"         \u001b[m\u001b[0;33m   4434316 ns      4378771 ns   \u001b[m\u001b[0;36m       159\u001b[m bytes_per_second=620.578M/s\u001b[m\n",
      "\u001b[m\u001b[0;32mBM_decode_view/\"pneumonia\"         \u001b[m\u001b[0;33m   4530982 ns      4472663 ns   \u001b[m\u001b[0;36m       159\u001b[m bytes_per_second=607.551M/s\u001b[m\n",
      "\u001b[m\u001b[0;32mBM_decode_view/\"pneumonia\"         \u001b[m\u001b[0;33m   4470089 ns      4414906 ns   \u001b[m\u001b[0;36m       159\u001b[m bytes_per_second=615.499M/s\u001b[m\n",
      "\u001b[m\u001b[0;32mBM_decode_view/\"pneumonia\"         \u001b[m\u001b[0;33m   4726544 ns      4662865 ns   \u001b[m\u001b[0;36m       159\u001b[m bytes_per_second=582.768M/s\u001b[m\n",
      "\u001b[m\u001b[0;32mBM_decode_view/\"pneumonia\"         \u001b[m\u001b[0;33m   4585473 ns      4526288 ns   \u001b[m\u001b[0;36m       159\u001b[m bytes_per_second=600.353M/s\u001b[m\n",
      "\u001b[m\u001b[0;32mBM_decode_view/\"pneumonia\"_mean    \u001b[m\u001b[0;33m   4549481 ns      4491098 ns   \u001b[m\u001b[0;36m         5\u001b[m bytes_per_second=605.35M/s\u001b[m\n",
      "\u001b[m\u001b[0;32mBM_decode_view/\"pneumonia\"_median  \u001b[m\u001b[0;33m   4530982 ns      4472663 ns   \u001b[m\u001b[0;36m         5\u001b[m bytes_per_second=607.551M/s\u001b[m\n",
      "\u001b[m\u001b[0;32mBM_decode_view/\"pneumonia\"_stddev  \u001b[m\u001b[0;33m    114624 ns       111248 ns   \u001b[m\u001b[0;36m         5\u001b[m bytes_per_second=14.7872M/s\u001b[m\n",
      "\u001b[m\u001b[0;32mBM_decode_view/\"integers\"          \u001b[m\u001b[0;33m    444256 ns       438918 ns   \u001b[m\u001b[0;36m      1614\u001b[m bytes_per_second=464.217M/s\u001b[m\n",
      "\u001b[m\u001b[0;32mBM_decode_view/\"integers\"          \u001b[m\u001b[0;33m    444963 ns       439848 ns   \u001b[m\u001b[0;36m      1614\u001b[m bytes_per_second=463.236M/s\u001b[m\n",
      "\u001b[m\u001b[0;32mBM_decode_view/\"integers\"          \u001b[m\u001b[0;33m    453219 ns       447905 ns   \u001b[m\u001b[0;36m      1614\u001b[m bytes_per_second=454.903M/s\u001b[m\n",
      "\u001b[m\u001b[0;32mBM_decode_view/\"integers\"          \u001b[m\u001b[0;33m    437377 ns       432438 ns   \u001b[m\u001b[0;36m      1614\u001b[m bytes_per_second=471.174M/s\u001b[m\n",
      "\u001b[m\u001b[0;32mBM_decode_view/\"integers\"          \u001b[m\u001b[0;33m    454065 ns       448866 ns   \u001b[m\u001b[0;36m      1614\u001b[m bytes_per_second=453.929M/s\u001b[m\n",
      "\u001b[m\u001b[0;32mBM_decode_view/\"integers\"_mean     \u001b[m\u001b[0;33m    446776 ns       441595 ns   \u001b[m\u001b[0;36m         5\u001b[m bytes_per_second=461.492M/s\u001b[m\n",
      "\u001b[m\u001b[0;32mBM_decode_view/\"integers\"_median   \u001b[m\u001b[0;33m    444963 ns       439848 ns   \u001b[m\u001b[0;36m         5\u001b[m bytes_per_second=463.236M/s\u001b[m\n",
      "\u001b[m\u001b[0;32mBM_decode_view/\"integers\"_stddev   \u001b[m\u001b[0;33m      6939 ns         6833 ns   \u001b[m\u001b[0;36m         5\u001b[m bytes_per_second=7.15563M/s\u001b[m\n",
      "\u001b[m"
     ]
    }
   ],
   "source": [
    "!../../cmake-build-release/benchmark/comparison/benchmark-arvidn-libtorrent \\\n",
    "    --benchmark_repetitions=$repetitions \\\n",
    "    --benchmark_out_format=json \\\n",
    "    --benchmark_out=\"benchmark-arvidn-libtorrent.json\""
   ]
  },
  {
   "cell_type": "code",
   "execution_count": 118,
   "metadata": {
    "tags": []
   },
   "outputs": [
    {
     "output_type": "stream",
     "name": "stdout",
     "text": [
      "2020-12-28T15:32:46+01:00\n",
      "Running ../../cmake-build-release/benchmark/comparison/benchmark-fbdtemme-bencode\n",
      "Run on (8 X 3800 MHz CPU s)\n",
      "CPU Caches:\n",
      "  L1 Data 32 KiB (x4)\n",
      "  L1 Instruction 32 KiB (x4)\n",
      "  L2 Unified 256 KiB (x4)\n",
      "  L3 Unified 6144 KiB (x1)\n",
      "Load Average: 3.09, 2.85, 2.83\n",
      "----------------------------------------------------------------------------------------------\n",
      "Benchmark                                    Time             CPU   Iterations UserCounters...\n",
      "----------------------------------------------------------------------------------------------\n",
      "\u001b[0;32mBM_decode_value/\"ubuntu\"            \u001b[m\u001b[0;33m      5411 ns         5339 ns   \u001b[m\u001b[0;36m    113756\u001b[m bytes_per_second=12.817G/s\u001b[m\n",
      "\u001b[m\u001b[0;32mBM_decode_value/\"ubuntu\"            \u001b[m\u001b[0;33m      5378 ns         5308 ns   \u001b[m\u001b[0;36m    113756\u001b[m bytes_per_second=12.8914G/s\u001b[m\n",
      "\u001b[m\u001b[0;32mBM_decode_value/\"ubuntu\"            \u001b[m\u001b[0;33m      5762 ns         5685 ns   \u001b[m\u001b[0;36m    113756\u001b[m bytes_per_second=12.0375G/s\u001b[m\n",
      "\u001b[m\u001b[0;32mBM_decode_value/\"ubuntu\"            \u001b[m\u001b[0;33m      5423 ns         5353 ns   \u001b[m\u001b[0;36m    113756\u001b[m bytes_per_second=12.7853G/s\u001b[m\n",
      "\u001b[m\u001b[0;32mBM_decode_value/\"ubuntu\"            \u001b[m\u001b[0;33m      5253 ns         5181 ns   \u001b[m\u001b[0;36m    113756\u001b[m bytes_per_second=13.2095G/s\u001b[m\n",
      "\u001b[m\u001b[0;32mBM_decode_value/\"ubuntu\"_mean       \u001b[m\u001b[0;33m      5445 ns         5373 ns   \u001b[m\u001b[0;36m         5\u001b[m bytes_per_second=12.7481G/s\u001b[m\n",
      "\u001b[m\u001b[0;32mBM_decode_value/\"ubuntu\"_median     \u001b[m\u001b[0;33m      5411 ns         5339 ns   \u001b[m\u001b[0;36m         5\u001b[m bytes_per_second=12.817G/s\u001b[m\n",
      "\u001b[m\u001b[0;32mBM_decode_value/\"ubuntu\"_stddev     \u001b[m\u001b[0;33m       189 ns          187 ns   \u001b[m\u001b[0;36m         5\u001b[m bytes_per_second=441.807M/s\u001b[m\n",
      "\u001b[m\u001b[0;32mBM_decode_value/\"covid\"             \u001b[m\u001b[0;33m     13718 ns        13547 ns   \u001b[m\u001b[0;36m     47572\u001b[m bytes_per_second=238.502M/s\u001b[m\n",
      "\u001b[m\u001b[0;32mBM_decode_value/\"covid\"             \u001b[m\u001b[0;33m     13235 ns        13065 ns   \u001b[m\u001b[0;36m     47572\u001b[m bytes_per_second=247.307M/s\u001b[m\n",
      "\u001b[m\u001b[0;32mBM_decode_value/\"covid\"             \u001b[m\u001b[0;33m     13594 ns        13420 ns   \u001b[m\u001b[0;36m     47572\u001b[m bytes_per_second=240.759M/s\u001b[m\n",
      "\u001b[m\u001b[0;32mBM_decode_value/\"covid\"             \u001b[m\u001b[0;33m     13953 ns        13762 ns   \u001b[m\u001b[0;36m     47572\u001b[m bytes_per_second=234.773M/s\u001b[m\n",
      "\u001b[m\u001b[0;32mBM_decode_value/\"covid\"             \u001b[m\u001b[0;33m     13502 ns        13326 ns   \u001b[m\u001b[0;36m     47572\u001b[m bytes_per_second=242.455M/s\u001b[m\n",
      "\u001b[m\u001b[0;32mBM_decode_value/\"covid\"_mean        \u001b[m\u001b[0;33m     13600 ns        13424 ns   \u001b[m\u001b[0;36m         5\u001b[m bytes_per_second=240.759M/s\u001b[m\n",
      "\u001b[m\u001b[0;32mBM_decode_value/\"covid\"_median      \u001b[m\u001b[0;33m     13594 ns        13420 ns   \u001b[m\u001b[0;36m         5\u001b[m bytes_per_second=240.759M/s\u001b[m\n",
      "\u001b[m\u001b[0;32mBM_decode_value/\"covid\"_stddev      \u001b[m\u001b[0;33m       265 ns          259 ns   \u001b[m\u001b[0;36m         5\u001b[m bytes_per_second=4.655M/s\u001b[m\n",
      "\u001b[m\u001b[0;32mBM_decode_value/\"camelyon17\"        \u001b[m\u001b[0;33m   2045911 ns      2014670 ns   \u001b[m\u001b[0;36m       308\u001b[m bytes_per_second=3.31412G/s\u001b[m\n",
      "\u001b[m\u001b[0;32mBM_decode_value/\"camelyon17\"        \u001b[m\u001b[0;33m   2218535 ns      2176567 ns   \u001b[m\u001b[0;36m       308\u001b[m bytes_per_second=3.06761G/s\u001b[m\n",
      "\u001b[m\u001b[0;32mBM_decode_value/\"camelyon17\"        \u001b[m\u001b[0;33m   2137571 ns      2105943 ns   \u001b[m\u001b[0;36m       308\u001b[m bytes_per_second=3.17048G/s\u001b[m\n",
      "\u001b[m\u001b[0;32mBM_decode_value/\"camelyon17\"        \u001b[m\u001b[0;33m   2129130 ns      2097793 ns   \u001b[m\u001b[0;36m       308\u001b[m bytes_per_second=3.1828G/s\u001b[m\n",
      "\u001b[m\u001b[0;32mBM_decode_value/\"camelyon17\"        \u001b[m\u001b[0;33m   2102194 ns      2072251 ns   \u001b[m\u001b[0;36m       308\u001b[m bytes_per_second=3.22203G/s\u001b[m\n",
      "\u001b[m\u001b[0;32mBM_decode_value/\"camelyon17\"_mean   \u001b[m\u001b[0;33m   2126668 ns      2093445 ns   \u001b[m\u001b[0;36m         5\u001b[m bytes_per_second=3.19141G/s\u001b[m\n",
      "\u001b[m\u001b[0;32mBM_decode_value/\"camelyon17\"_median \u001b[m\u001b[0;33m   2129130 ns      2097793 ns   \u001b[m\u001b[0;36m         5\u001b[m bytes_per_second=3.1828G/s\u001b[m\n",
      "\u001b[m\u001b[0;32mBM_decode_value/\"camelyon17\"_stddev \u001b[m\u001b[0;33m     62620 ns        58607 ns   \u001b[m\u001b[0;36m         5\u001b[m bytes_per_second=91.3512M/s\u001b[m\n",
      "\u001b[m\u001b[0;32mBM_decode_value/\"pneumonia\"         \u001b[m\u001b[0;33m  28725318 ns     28314331 ns   \u001b[m\u001b[0;36m        24\u001b[m bytes_per_second=95.9715M/s\u001b[m\n",
      "\u001b[m\u001b[0;32mBM_decode_value/\"pneumonia\"         \u001b[m\u001b[0;33m  28314736 ns     27926229 ns   \u001b[m\u001b[0;36m        24\u001b[m bytes_per_second=97.3053M/s\u001b[m\n",
      "\u001b[m\u001b[0;32mBM_decode_value/\"pneumonia\"         \u001b[m\u001b[0;33m  29370024 ns     28948817 ns   \u001b[m\u001b[0;36m        24\u001b[m bytes_per_second=93.8681M/s\u001b[m\n",
      "\u001b[m\u001b[0;32mBM_decode_value/\"pneumonia\"         \u001b[m\u001b[0;33m  28569412 ns     28155081 ns   \u001b[m\u001b[0;36m        24\u001b[m bytes_per_second=96.5143M/s\u001b[m\n",
      "\u001b[m\u001b[0;32mBM_decode_value/\"pneumonia\"         \u001b[m\u001b[0;33m  28467825 ns     28066674 ns   \u001b[m\u001b[0;36m        24\u001b[m bytes_per_second=96.8184M/s\u001b[m\n",
      "\u001b[m\u001b[0;32mBM_decode_value/\"pneumonia\"_mean    \u001b[m\u001b[0;33m  28689463 ns     28282226 ns   \u001b[m\u001b[0;36m         5\u001b[m bytes_per_second=96.0955M/s\u001b[m\n",
      "\u001b[m\u001b[0;32mBM_decode_value/\"pneumonia\"_median  \u001b[m\u001b[0;33m  28569412 ns     28155081 ns   \u001b[m\u001b[0;36m         5\u001b[m bytes_per_second=96.5143M/s\u001b[m\n",
      "\u001b[m\u001b[0;32mBM_decode_value/\"pneumonia\"_stddev  \u001b[m\u001b[0;33m    408780 ns       398352 ns   \u001b[m\u001b[0;36m         5\u001b[m bytes_per_second=1.33589M/s\u001b[m\n",
      "\u001b[m\u001b[0;32mBM_decode_value/\"integers\"          \u001b[m\u001b[0;33m    746503 ns       735311 ns   \u001b[m\u001b[0;36m       776\u001b[m bytes_per_second=277.098M/s\u001b[m\n",
      "\u001b[m\u001b[0;32mBM_decode_value/\"integers\"          \u001b[m\u001b[0;33m    721907 ns       711847 ns   \u001b[m\u001b[0;36m       776\u001b[m bytes_per_second=286.232M/s\u001b[m\n",
      "\u001b[m\u001b[0;32mBM_decode_value/\"integers\"          \u001b[m\u001b[0;33m    870944 ns       855997 ns   \u001b[m\u001b[0;36m       776\u001b[m bytes_per_second=238.031M/s\u001b[m\n",
      "\u001b[m\u001b[0;32mBM_decode_value/\"integers\"          \u001b[m\u001b[0;33m    781330 ns       769620 ns   \u001b[m\u001b[0;36m       776\u001b[m bytes_per_second=264.746M/s\u001b[m\n",
      "\u001b[m\u001b[0;32mBM_decode_value/\"integers\"          \u001b[m\u001b[0;33m    771963 ns       761116 ns   \u001b[m\u001b[0;36m       776\u001b[m bytes_per_second=267.704M/s\u001b[m\n",
      "\u001b[m\u001b[0;32mBM_decode_value/\"integers\"_mean     \u001b[m\u001b[0;33m    778529 ns       766778 ns   \u001b[m\u001b[0;36m         5\u001b[m bytes_per_second=266.762M/s\u001b[m\n",
      "\u001b[m\u001b[0;32mBM_decode_value/\"integers\"_median   \u001b[m\u001b[0;33m    771963 ns       761116 ns   \u001b[m\u001b[0;36m         5\u001b[m bytes_per_second=267.704M/s\u001b[m\n",
      "\u001b[m\u001b[0;32mBM_decode_value/\"integers\"_stddev   \u001b[m\u001b[0;33m     56620 ns        54790 ns   \u001b[m\u001b[0;36m         5\u001b[m bytes_per_second=18.1408M/s\u001b[m\n",
      "\u001b[m\u001b[0;32mBM_decode_view/\"ubuntu\"             \u001b[m\u001b[0;33m       670 ns          661 ns   \u001b[m\u001b[0;36m   1066916\u001b[m bytes_per_second=103.516G/s\u001b[m\n",
      "\u001b[m\u001b[0;32mBM_decode_view/\"ubuntu\"             \u001b[m\u001b[0;33m       685 ns          676 ns   \u001b[m\u001b[0;36m   1066916\u001b[m bytes_per_second=101.219G/s\u001b[m\n",
      "\u001b[m\u001b[0;32mBM_decode_view/\"ubuntu\"             \u001b[m\u001b[0;33m       651 ns          642 ns   \u001b[m\u001b[0;36m   1066916\u001b[m bytes_per_second=106.631G/s\u001b[m\n",
      "\u001b[m\u001b[0;32mBM_decode_view/\"ubuntu\"             \u001b[m\u001b[0;33m       634 ns          625 ns   \u001b[m\u001b[0;36m   1066916\u001b[m bytes_per_second=109.457G/s\u001b[m\n",
      "\u001b[m\u001b[0;32mBM_decode_view/\"ubuntu\"             \u001b[m\u001b[0;33m       707 ns          698 ns   \u001b[m\u001b[0;36m   1066916\u001b[m bytes_per_second=98.0014G/s\u001b[m\n",
      "\u001b[m\u001b[0;32mBM_decode_view/\"ubuntu\"_mean        \u001b[m\u001b[0;33m       669 ns          660 ns   \u001b[m\u001b[0;36m         5\u001b[m bytes_per_second=103.765G/s\u001b[m\n",
      "\u001b[m\u001b[0;32mBM_decode_view/\"ubuntu\"_median      \u001b[m\u001b[0;33m       670 ns          661 ns   \u001b[m\u001b[0;36m         5\u001b[m bytes_per_second=103.516G/s\u001b[m\n",
      "\u001b[m\u001b[0;32mBM_decode_view/\"ubuntu\"_stddev      \u001b[m\u001b[0;33m      28.8 ns         28.6 ns   \u001b[m\u001b[0;36m         5\u001b[m bytes_per_second=4.48261G/s\u001b[m\n",
      "\u001b[m\u001b[0;32mBM_decode_view/\"covid\"              \u001b[m\u001b[0;33m      3967 ns         3919 ns   \u001b[m\u001b[0;36m    175494\u001b[m bytes_per_second=824.527M/s\u001b[m\n",
      "\u001b[m\u001b[0;32mBM_decode_view/\"covid\"              \u001b[m\u001b[0;33m      3751 ns         3703 ns   \u001b[m\u001b[0;36m    175494\u001b[m bytes_per_second=872.491M/s\u001b[m\n",
      "\u001b[m\u001b[0;32mBM_decode_view/\"covid\"              \u001b[m\u001b[0;33m      4124 ns         4066 ns   \u001b[m\u001b[0;36m    175494\u001b[m bytes_per_second=794.675M/s\u001b[m\n",
      "\u001b[m\u001b[0;32mBM_decode_view/\"covid\"              \u001b[m\u001b[0;33m      3969 ns         3912 ns   \u001b[m\u001b[0;36m    175494\u001b[m bytes_per_second=825.929M/s\u001b[m\n",
      "\u001b[m\u001b[0;32mBM_decode_view/\"covid\"              \u001b[m\u001b[0;33m      4103 ns         4046 ns   \u001b[m\u001b[0;36m    175494\u001b[m bytes_per_second=798.509M/s\u001b[m\n",
      "\u001b[m\u001b[0;32mBM_decode_view/\"covid\"_mean         \u001b[m\u001b[0;33m      3983 ns         3929 ns   \u001b[m\u001b[0;36m         5\u001b[m bytes_per_second=823.226M/s\u001b[m\n",
      "\u001b[m\u001b[0;32mBM_decode_view/\"covid\"_median       \u001b[m\u001b[0;33m      3969 ns         3919 ns   \u001b[m\u001b[0;36m         5\u001b[m bytes_per_second=824.527M/s\u001b[m\n",
      "\u001b[m\u001b[0;32mBM_decode_view/\"covid\"_stddev       \u001b[m\u001b[0;33m       149 ns          145 ns   \u001b[m\u001b[0;36m         5\u001b[m bytes_per_second=31.073M/s\u001b[m\n",
      "\u001b[m\u001b[0;32mBM_decode_view/\"camelyon17\"         \u001b[m\u001b[0;33m    232806 ns       229261 ns   \u001b[m\u001b[0;36m      2968\u001b[m bytes_per_second=29.1234G/s\u001b[m\n",
      "\u001b[m\u001b[0;32mBM_decode_view/\"camelyon17\"         \u001b[m\u001b[0;33m    237538 ns       233902 ns   \u001b[m\u001b[0;36m      2968\u001b[m bytes_per_second=28.5455G/s\u001b[m\n",
      "\u001b[m\u001b[0;32mBM_decode_view/\"camelyon17\"         \u001b[m\u001b[0;33m    230855 ns       227212 ns   \u001b[m\u001b[0;36m      2968\u001b[m bytes_per_second=29.386G/s\u001b[m\n",
      "\u001b[m\u001b[0;32mBM_decode_view/\"camelyon17\"         \u001b[m\u001b[0;33m    236620 ns       232916 ns   \u001b[m\u001b[0;36m      2968\u001b[m bytes_per_second=28.6663G/s\u001b[m\n",
      "\u001b[m\u001b[0;32mBM_decode_view/\"camelyon17\"         \u001b[m\u001b[0;33m    235895 ns       232229 ns   \u001b[m\u001b[0;36m      2968\u001b[m bytes_per_second=28.7511G/s\u001b[m\n",
      "\u001b[m\u001b[0;32mBM_decode_view/\"camelyon17\"_mean    \u001b[m\u001b[0;33m    234743 ns       231104 ns   \u001b[m\u001b[0;36m         5\u001b[m bytes_per_second=28.8945G/s\u001b[m\n",
      "\u001b[m\u001b[0;32mBM_decode_view/\"camelyon17\"_median  \u001b[m\u001b[0;33m    235895 ns       232229 ns   \u001b[m\u001b[0;36m         5\u001b[m bytes_per_second=28.7511G/s\u001b[m\n",
      "\u001b[m\u001b[0;32mBM_decode_view/\"camelyon17\"_stddev  \u001b[m\u001b[0;33m      2808 ns         2780 ns   \u001b[m\u001b[0;36m         5\u001b[m bytes_per_second=357.808M/s\u001b[m\n",
      "\u001b[m\u001b[0;32mBM_decode_view/\"pneumonia\"          \u001b[m\u001b[0;33m   7179574 ns      7063535 ns   \u001b[m\u001b[0;36m        72\u001b[m bytes_per_second=384.704M/s\u001b[m\n",
      "\u001b[m\u001b[0;32mBM_decode_view/\"pneumonia\"          \u001b[m\u001b[0;33m   7233134 ns      7117527 ns   \u001b[m\u001b[0;36m        72\u001b[m bytes_per_second=381.786M/s\u001b[m\n",
      "\u001b[m\u001b[0;32mBM_decode_view/\"pneumonia\"          \u001b[m\u001b[0;33m   7256249 ns      7138115 ns   \u001b[m\u001b[0;36m        72\u001b[m bytes_per_second=380.684M/s\u001b[m\n",
      "\u001b[m\u001b[0;32mBM_decode_view/\"pneumonia\"          \u001b[m\u001b[0;33m   7937333 ns      7805875 ns   \u001b[m\u001b[0;36m        72\u001b[m bytes_per_second=348.118M/s\u001b[m\n",
      "\u001b[m\u001b[0;32mBM_decode_view/\"pneumonia\"          \u001b[m\u001b[0;33m   7046321 ns      6935664 ns   \u001b[m\u001b[0;36m        72\u001b[m bytes_per_second=391.797M/s\u001b[m\n",
      "\u001b[m\u001b[0;32mBM_decode_view/\"pneumonia\"_mean     \u001b[m\u001b[0;33m   7330522 ns      7212143 ns   \u001b[m\u001b[0;36m         5\u001b[m bytes_per_second=377.418M/s\u001b[m\n",
      "\u001b[m\u001b[0;32mBM_decode_view/\"pneumonia\"_median   \u001b[m\u001b[0;33m   7233134 ns      7117527 ns   \u001b[m\u001b[0;36m         5\u001b[m bytes_per_second=381.786M/s\u001b[m\n",
      "\u001b[m\u001b[0;32mBM_decode_view/\"pneumonia\"_stddev   \u001b[m\u001b[0;33m    348847 ns       341129 ns   \u001b[m\u001b[0;36m         5\u001b[m bytes_per_second=16.9413M/s\u001b[m\n",
      "\u001b[m\u001b[0;32mBM_decode_view/\"integers\"           \u001b[m\u001b[0;33m    660975 ns       650710 ns   \u001b[m\u001b[0;36m      1062\u001b[m bytes_per_second=313.125M/s\u001b[m\n",
      "\u001b[m\u001b[0;32mBM_decode_view/\"integers\"           \u001b[m\u001b[0;33m    667948 ns       658244 ns   \u001b[m\u001b[0;36m      1062\u001b[m bytes_per_second=309.541M/s\u001b[m\n",
      "\u001b[m\u001b[0;32mBM_decode_view/\"integers\"           \u001b[m\u001b[0;33m    643096 ns       633911 ns   \u001b[m\u001b[0;36m      1062\u001b[m bytes_per_second=321.423M/s\u001b[m\n",
      "\u001b[m\u001b[0;32mBM_decode_view/\"integers\"           \u001b[m\u001b[0;33m    623607 ns       616151 ns   \u001b[m\u001b[0;36m      1062\u001b[m bytes_per_second=330.688M/s\u001b[m\n",
      "\u001b[m\u001b[0;32mBM_decode_view/\"integers\"           \u001b[m\u001b[0;33m    643729 ns       635663 ns   \u001b[m\u001b[0;36m      1062\u001b[m bytes_per_second=320.537M/s\u001b[m\n",
      "\u001b[m\u001b[0;32mBM_decode_view/\"integers\"_mean      \u001b[m\u001b[0;33m    647871 ns       638936 ns   \u001b[m\u001b[0;36m         5\u001b[m bytes_per_second=319.063M/s\u001b[m\n",
      "\u001b[m\u001b[0;32mBM_decode_view/\"integers\"_median    \u001b[m\u001b[0;33m    643729 ns       635663 ns   \u001b[m\u001b[0;36m         5\u001b[m bytes_per_second=320.537M/s\u001b[m\n",
      "\u001b[m\u001b[0;32mBM_decode_view/\"integers\"_stddev    \u001b[m\u001b[0;33m     17346 ns        16329 ns   \u001b[m\u001b[0;36m         5\u001b[m bytes_per_second=8.19774M/s\u001b[m\n",
      "\u001b[m"
     ]
    }
   ],
   "source": [
    "!../../cmake-build-release/benchmark/comparison/benchmark-fbdtemme-bencode \\\n",
    "    --benchmark_repetitions=$repetitions \\\n",
    "    --benchmark_out_format=json \\\n",
    "    --benchmark_out=\"benchmark-fbdtemme-bencode.json\""
   ]
  },
  {
   "cell_type": "code",
   "execution_count": 96,
   "metadata": {},
   "outputs": [
    {
     "output_type": "stream",
     "name": "stdout",
     "text": [
      "[sudo] password for fbdtemme: Setting cpu: 0\n",
      "Setting cpu: 1\n",
      "Setting cpu: 2\n",
      "Setting cpu: 3\n",
      "Setting cpu: 4\n",
      "Setting cpu: 5\n",
      "Setting cpu: 6\n",
      "Setting cpu: 7\n"
     ]
    }
   ],
   "source": [
    "# reenable cpu frequency scaling\n",
    "!echo $password | sudo -S cpupower frequency-set -g powersave"
   ]
  },
  {
   "cell_type": "code",
   "execution_count": 3,
   "metadata": {},
   "outputs": [],
   "source": [
    "df = pd.concat([\n",
    "    filter_results(load_json_benchmarks(\"benchmark-jimporter-bencode.json\"),       \"jimporter/bencode\"),\n",
    "    filter_results(load_json_benchmarks(\"benchmark-arvidn-libtorrent.json\"),       \"arvidn/libtorrent\"),\n",
    "    filter_results(load_json_benchmarks(\"benchmark-s3rvac-cpp-bencoding.json\"),    \"s3rvac/cpp-bencoding\"),\n",
    "    filter_results(load_json_benchmarks(\"benchmark-fbdtemme-bencode-swar.json\"),   \"fbdtemme/bencode\")\n",
    "])"
   ]
  },
  {
   "cell_type": "code",
   "execution_count": 4,
   "metadata": {},
   "outputs": [],
   "source": [
    "grouped_df = df.groupby([\"library\", \"test_type\", \"test_file\"])[\"bytes_per_second\"]\n",
    "results = pd.DataFrame({\"mean\" : grouped_df.mean(), \"stddev\": grouped_df.std()})\n",
    "\n",
    "results_value = results.loc[results.index.get_level_values(\"test_type\") == \"decode_value\", :]\n",
    "results_value = results_value.droplevel(1)\n",
    "results_value = results_value.drop(index = \"arvidn/libtorrent\")"
   ]
  },
  {
   "cell_type": "code",
   "execution_count": 5,
   "metadata": {},
   "outputs": [
    {
     "output_type": "execute_result",
     "data": {
      "text/plain": [
       "                                      mean        stddev\n",
       "library           test_file                             \n",
       "arvidn/libtorrent camelyon17  4.860946e+10  8.152936e+08\n",
       "                  covid       1.142674e+09  2.031518e+07\n",
       "                  integers    4.839094e+08  7.503217e+06\n",
       "                  pneumonia   6.347551e+08  1.550551e+07\n",
       "                  ubuntu      1.114506e+11  5.327111e+09\n",
       "fbdtemme/bencode  camelyon17  5.087561e+10  1.382987e+09\n",
       "                  covid       1.151297e+09  3.574527e+07\n",
       "                  integers    8.869803e+08  2.081852e+07\n",
       "                  pneumonia   6.175481e+08  1.217620e+07\n",
       "                  ubuntu      1.361272e+11  5.395909e+09\n",
       "jimporter/bencode camelyon17  4.895452e+09  1.622470e+08\n",
       "                  covid       2.571199e+08  4.375974e+06\n",
       "                  integers    4.148385e+08  1.029665e+07\n",
       "                  pneumonia   7.651136e+07  1.589970e+06\n",
       "                  ubuntu      6.736234e+10  1.589689e+09"
      ],
      "text/html": "<div>\n<style scoped>\n    .dataframe tbody tr th:only-of-type {\n        vertical-align: middle;\n    }\n\n    .dataframe tbody tr th {\n        vertical-align: top;\n    }\n\n    .dataframe thead th {\n        text-align: right;\n    }\n</style>\n<table border=\"1\" class=\"dataframe\">\n  <thead>\n    <tr style=\"text-align: right;\">\n      <th></th>\n      <th></th>\n      <th>mean</th>\n      <th>stddev</th>\n    </tr>\n    <tr>\n      <th>library</th>\n      <th>test_file</th>\n      <th></th>\n      <th></th>\n    </tr>\n  </thead>\n  <tbody>\n    <tr>\n      <th rowspan=\"5\" valign=\"top\">arvidn/libtorrent</th>\n      <th>camelyon17</th>\n      <td>4.860946e+10</td>\n      <td>8.152936e+08</td>\n    </tr>\n    <tr>\n      <th>covid</th>\n      <td>1.142674e+09</td>\n      <td>2.031518e+07</td>\n    </tr>\n    <tr>\n      <th>integers</th>\n      <td>4.839094e+08</td>\n      <td>7.503217e+06</td>\n    </tr>\n    <tr>\n      <th>pneumonia</th>\n      <td>6.347551e+08</td>\n      <td>1.550551e+07</td>\n    </tr>\n    <tr>\n      <th>ubuntu</th>\n      <td>1.114506e+11</td>\n      <td>5.327111e+09</td>\n    </tr>\n    <tr>\n      <th rowspan=\"5\" valign=\"top\">fbdtemme/bencode</th>\n      <th>camelyon17</th>\n      <td>5.087561e+10</td>\n      <td>1.382987e+09</td>\n    </tr>\n    <tr>\n      <th>covid</th>\n      <td>1.151297e+09</td>\n      <td>3.574527e+07</td>\n    </tr>\n    <tr>\n      <th>integers</th>\n      <td>8.869803e+08</td>\n      <td>2.081852e+07</td>\n    </tr>\n    <tr>\n      <th>pneumonia</th>\n      <td>6.175481e+08</td>\n      <td>1.217620e+07</td>\n    </tr>\n    <tr>\n      <th>ubuntu</th>\n      <td>1.361272e+11</td>\n      <td>5.395909e+09</td>\n    </tr>\n    <tr>\n      <th rowspan=\"5\" valign=\"top\">jimporter/bencode</th>\n      <th>camelyon17</th>\n      <td>4.895452e+09</td>\n      <td>1.622470e+08</td>\n    </tr>\n    <tr>\n      <th>covid</th>\n      <td>2.571199e+08</td>\n      <td>4.375974e+06</td>\n    </tr>\n    <tr>\n      <th>integers</th>\n      <td>4.148385e+08</td>\n      <td>1.029665e+07</td>\n    </tr>\n    <tr>\n      <th>pneumonia</th>\n      <td>7.651136e+07</td>\n      <td>1.589970e+06</td>\n    </tr>\n    <tr>\n      <th>ubuntu</th>\n      <td>6.736234e+10</td>\n      <td>1.589689e+09</td>\n    </tr>\n  </tbody>\n</table>\n</div>"
     },
     "metadata": {},
     "execution_count": 5
    }
   ],
   "source": [
    "results_view = results.loc[results.index.get_level_values(\"test_type\") == \"decode_view\", :]\n",
    "results_view = results_view.droplevel(1)\n",
    "results_view = results_view.drop(index = \"s3rvac/cpp-bencoding\")\n",
    "results_view"
   ]
  },
  {
   "cell_type": "code",
   "execution_count": 14,
   "metadata": {},
   "outputs": [
    {
     "output_type": "error",
     "ename": "FileNotFoundError",
     "evalue": "[Errno 2] No such file or directory: '../docs/images/benchmark-decoding-value.svg'",
     "traceback": [
      "\u001b[0;31m---------------------------------------------------------------------------\u001b[0m",
      "\u001b[0;31mFileNotFoundError\u001b[0m                         Traceback (most recent call last)",
      "\u001b[0;32m<ipython-input-14-507288e912eb>\u001b[0m in \u001b[0;36m<module>\u001b[0;34m\u001b[0m\n\u001b[1;32m      3\u001b[0m \u001b[0;34m\u001b[0m\u001b[0m\n\u001b[1;32m      4\u001b[0m \u001b[0max\u001b[0m\u001b[0;34m.\u001b[0m\u001b[0mfigure\u001b[0m\u001b[0;34m.\u001b[0m\u001b[0mtight_layout\u001b[0m\u001b[0;34m(\u001b[0m\u001b[0;34m)\u001b[0m\u001b[0;34m\u001b[0m\u001b[0;34m\u001b[0m\u001b[0m\n\u001b[0;32m----> 5\u001b[0;31m \u001b[0max\u001b[0m\u001b[0;34m.\u001b[0m\u001b[0mfigure\u001b[0m\u001b[0;34m.\u001b[0m\u001b[0msavefig\u001b[0m\u001b[0;34m(\u001b[0m\u001b[0;34m\"../docs/images/benchmark-decoding-value.svg\"\u001b[0m\u001b[0;34m)\u001b[0m\u001b[0;34m\u001b[0m\u001b[0;34m\u001b[0m\u001b[0m\n\u001b[0m",
      "\u001b[0;32m/usr/lib64/python3.9/site-packages/matplotlib/figure.py\u001b[0m in \u001b[0;36msavefig\u001b[0;34m(self, fname, transparent, **kwargs)\u001b[0m\n\u001b[1;32m   2309\u001b[0m                 \u001b[0mpatch\u001b[0m\u001b[0;34m.\u001b[0m\u001b[0mset_edgecolor\u001b[0m\u001b[0;34m(\u001b[0m\u001b[0;34m'none'\u001b[0m\u001b[0;34m)\u001b[0m\u001b[0;34m\u001b[0m\u001b[0;34m\u001b[0m\u001b[0m\n\u001b[1;32m   2310\u001b[0m \u001b[0;34m\u001b[0m\u001b[0m\n\u001b[0;32m-> 2311\u001b[0;31m         \u001b[0mself\u001b[0m\u001b[0;34m.\u001b[0m\u001b[0mcanvas\u001b[0m\u001b[0;34m.\u001b[0m\u001b[0mprint_figure\u001b[0m\u001b[0;34m(\u001b[0m\u001b[0mfname\u001b[0m\u001b[0;34m,\u001b[0m \u001b[0;34m**\u001b[0m\u001b[0mkwargs\u001b[0m\u001b[0;34m)\u001b[0m\u001b[0;34m\u001b[0m\u001b[0;34m\u001b[0m\u001b[0m\n\u001b[0m\u001b[1;32m   2312\u001b[0m \u001b[0;34m\u001b[0m\u001b[0m\n\u001b[1;32m   2313\u001b[0m         \u001b[0;32mif\u001b[0m \u001b[0mtransparent\u001b[0m\u001b[0;34m:\u001b[0m\u001b[0;34m\u001b[0m\u001b[0;34m\u001b[0m\u001b[0m\n",
      "\u001b[0;32m/usr/lib64/python3.9/site-packages/matplotlib/backend_bases.py\u001b[0m in \u001b[0;36mprint_figure\u001b[0;34m(self, filename, dpi, facecolor, edgecolor, orientation, format, bbox_inches, pad_inches, bbox_extra_artists, backend, **kwargs)\u001b[0m\n\u001b[1;32m   2208\u001b[0m \u001b[0;34m\u001b[0m\u001b[0m\n\u001b[1;32m   2209\u001b[0m             \u001b[0;32mtry\u001b[0m\u001b[0;34m:\u001b[0m\u001b[0;34m\u001b[0m\u001b[0;34m\u001b[0m\u001b[0m\n\u001b[0;32m-> 2210\u001b[0;31m                 result = print_method(\n\u001b[0m\u001b[1;32m   2211\u001b[0m                     \u001b[0mfilename\u001b[0m\u001b[0;34m,\u001b[0m\u001b[0;34m\u001b[0m\u001b[0;34m\u001b[0m\u001b[0m\n\u001b[1;32m   2212\u001b[0m                     \u001b[0mdpi\u001b[0m\u001b[0;34m=\u001b[0m\u001b[0mdpi\u001b[0m\u001b[0;34m,\u001b[0m\u001b[0;34m\u001b[0m\u001b[0;34m\u001b[0m\u001b[0m\n",
      "\u001b[0;32m/usr/lib64/python3.9/site-packages/matplotlib/backends/backend_svg.py\u001b[0m in \u001b[0;36mprint_svg\u001b[0;34m(self, filename, *args, **kwargs)\u001b[0m\n\u001b[1;32m   1315\u001b[0m             \u001b[0m__\u001b[0m \u001b[0mDC_\u001b[0m\u001b[0;34m\u001b[0m\u001b[0;34m\u001b[0m\u001b[0m\n\u001b[1;32m   1316\u001b[0m         \"\"\"\n\u001b[0;32m-> 1317\u001b[0;31m         \u001b[0;32mwith\u001b[0m \u001b[0mcbook\u001b[0m\u001b[0;34m.\u001b[0m\u001b[0mopen_file_cm\u001b[0m\u001b[0;34m(\u001b[0m\u001b[0mfilename\u001b[0m\u001b[0;34m,\u001b[0m \u001b[0;34m\"w\"\u001b[0m\u001b[0;34m,\u001b[0m \u001b[0mencoding\u001b[0m\u001b[0;34m=\u001b[0m\u001b[0;34m\"utf-8\"\u001b[0m\u001b[0;34m)\u001b[0m \u001b[0;32mas\u001b[0m \u001b[0mfh\u001b[0m\u001b[0;34m:\u001b[0m\u001b[0;34m\u001b[0m\u001b[0;34m\u001b[0m\u001b[0m\n\u001b[0m\u001b[1;32m   1318\u001b[0m \u001b[0;34m\u001b[0m\u001b[0m\n\u001b[1;32m   1319\u001b[0m             \u001b[0mfilename\u001b[0m \u001b[0;34m=\u001b[0m \u001b[0mgetattr\u001b[0m\u001b[0;34m(\u001b[0m\u001b[0mfh\u001b[0m\u001b[0;34m,\u001b[0m \u001b[0;34m'name'\u001b[0m\u001b[0;34m,\u001b[0m \u001b[0;34m''\u001b[0m\u001b[0;34m)\u001b[0m\u001b[0;34m\u001b[0m\u001b[0;34m\u001b[0m\u001b[0m\n",
      "\u001b[0;32m/usr/lib64/python3.9/contextlib.py\u001b[0m in \u001b[0;36m__enter__\u001b[0;34m(self)\u001b[0m\n\u001b[1;32m    115\u001b[0m         \u001b[0;32mdel\u001b[0m \u001b[0mself\u001b[0m\u001b[0;34m.\u001b[0m\u001b[0margs\u001b[0m\u001b[0;34m,\u001b[0m \u001b[0mself\u001b[0m\u001b[0;34m.\u001b[0m\u001b[0mkwds\u001b[0m\u001b[0;34m,\u001b[0m \u001b[0mself\u001b[0m\u001b[0;34m.\u001b[0m\u001b[0mfunc\u001b[0m\u001b[0;34m\u001b[0m\u001b[0;34m\u001b[0m\u001b[0m\n\u001b[1;32m    116\u001b[0m         \u001b[0;32mtry\u001b[0m\u001b[0;34m:\u001b[0m\u001b[0;34m\u001b[0m\u001b[0;34m\u001b[0m\u001b[0m\n\u001b[0;32m--> 117\u001b[0;31m             \u001b[0;32mreturn\u001b[0m \u001b[0mnext\u001b[0m\u001b[0;34m(\u001b[0m\u001b[0mself\u001b[0m\u001b[0;34m.\u001b[0m\u001b[0mgen\u001b[0m\u001b[0;34m)\u001b[0m\u001b[0;34m\u001b[0m\u001b[0;34m\u001b[0m\u001b[0m\n\u001b[0m\u001b[1;32m    118\u001b[0m         \u001b[0;32mexcept\u001b[0m \u001b[0mStopIteration\u001b[0m\u001b[0;34m:\u001b[0m\u001b[0;34m\u001b[0m\u001b[0;34m\u001b[0m\u001b[0m\n\u001b[1;32m    119\u001b[0m             \u001b[0;32mraise\u001b[0m \u001b[0mRuntimeError\u001b[0m\u001b[0;34m(\u001b[0m\u001b[0;34m\"generator didn't yield\"\u001b[0m\u001b[0;34m)\u001b[0m \u001b[0;32mfrom\u001b[0m \u001b[0;32mNone\u001b[0m\u001b[0;34m\u001b[0m\u001b[0;34m\u001b[0m\u001b[0m\n",
      "\u001b[0;32m/usr/lib64/python3.9/site-packages/matplotlib/cbook/__init__.py\u001b[0m in \u001b[0;36mopen_file_cm\u001b[0;34m(path_or_file, mode, encoding)\u001b[0m\n\u001b[1;32m    421\u001b[0m \u001b[0;32mdef\u001b[0m \u001b[0mopen_file_cm\u001b[0m\u001b[0;34m(\u001b[0m\u001b[0mpath_or_file\u001b[0m\u001b[0;34m,\u001b[0m \u001b[0mmode\u001b[0m\u001b[0;34m=\u001b[0m\u001b[0;34m\"r\"\u001b[0m\u001b[0;34m,\u001b[0m \u001b[0mencoding\u001b[0m\u001b[0;34m=\u001b[0m\u001b[0;32mNone\u001b[0m\u001b[0;34m)\u001b[0m\u001b[0;34m:\u001b[0m\u001b[0;34m\u001b[0m\u001b[0;34m\u001b[0m\u001b[0m\n\u001b[1;32m    422\u001b[0m     \u001b[0;34mr\"\"\"Pass through file objects and context-manage path-likes.\"\"\"\u001b[0m\u001b[0;34m\u001b[0m\u001b[0;34m\u001b[0m\u001b[0m\n\u001b[0;32m--> 423\u001b[0;31m     \u001b[0mfh\u001b[0m\u001b[0;34m,\u001b[0m \u001b[0mopened\u001b[0m \u001b[0;34m=\u001b[0m \u001b[0mto_filehandle\u001b[0m\u001b[0;34m(\u001b[0m\u001b[0mpath_or_file\u001b[0m\u001b[0;34m,\u001b[0m \u001b[0mmode\u001b[0m\u001b[0;34m,\u001b[0m \u001b[0;32mTrue\u001b[0m\u001b[0;34m,\u001b[0m \u001b[0mencoding\u001b[0m\u001b[0;34m)\u001b[0m\u001b[0;34m\u001b[0m\u001b[0;34m\u001b[0m\u001b[0m\n\u001b[0m\u001b[1;32m    424\u001b[0m     \u001b[0;32mif\u001b[0m \u001b[0mopened\u001b[0m\u001b[0;34m:\u001b[0m\u001b[0;34m\u001b[0m\u001b[0;34m\u001b[0m\u001b[0m\n\u001b[1;32m    425\u001b[0m         \u001b[0;32mwith\u001b[0m \u001b[0mfh\u001b[0m\u001b[0;34m:\u001b[0m\u001b[0;34m\u001b[0m\u001b[0;34m\u001b[0m\u001b[0m\n",
      "\u001b[0;32m/usr/lib64/python3.9/site-packages/matplotlib/cbook/__init__.py\u001b[0m in \u001b[0;36mto_filehandle\u001b[0;34m(fname, flag, return_opened, encoding)\u001b[0m\n\u001b[1;32m    406\u001b[0m             \u001b[0mfh\u001b[0m \u001b[0;34m=\u001b[0m \u001b[0mbz2\u001b[0m\u001b[0;34m.\u001b[0m\u001b[0mBZ2File\u001b[0m\u001b[0;34m(\u001b[0m\u001b[0mfname\u001b[0m\u001b[0;34m,\u001b[0m \u001b[0mflag\u001b[0m\u001b[0;34m)\u001b[0m\u001b[0;34m\u001b[0m\u001b[0;34m\u001b[0m\u001b[0m\n\u001b[1;32m    407\u001b[0m         \u001b[0;32melse\u001b[0m\u001b[0;34m:\u001b[0m\u001b[0;34m\u001b[0m\u001b[0;34m\u001b[0m\u001b[0m\n\u001b[0;32m--> 408\u001b[0;31m             \u001b[0mfh\u001b[0m \u001b[0;34m=\u001b[0m \u001b[0mopen\u001b[0m\u001b[0;34m(\u001b[0m\u001b[0mfname\u001b[0m\u001b[0;34m,\u001b[0m \u001b[0mflag\u001b[0m\u001b[0;34m,\u001b[0m \u001b[0mencoding\u001b[0m\u001b[0;34m=\u001b[0m\u001b[0mencoding\u001b[0m\u001b[0;34m)\u001b[0m\u001b[0;34m\u001b[0m\u001b[0;34m\u001b[0m\u001b[0m\n\u001b[0m\u001b[1;32m    409\u001b[0m         \u001b[0mopened\u001b[0m \u001b[0;34m=\u001b[0m \u001b[0;32mTrue\u001b[0m\u001b[0;34m\u001b[0m\u001b[0;34m\u001b[0m\u001b[0m\n\u001b[1;32m    410\u001b[0m     \u001b[0;32melif\u001b[0m \u001b[0mhasattr\u001b[0m\u001b[0;34m(\u001b[0m\u001b[0mfname\u001b[0m\u001b[0;34m,\u001b[0m \u001b[0;34m'seek'\u001b[0m\u001b[0;34m)\u001b[0m\u001b[0;34m:\u001b[0m\u001b[0;34m\u001b[0m\u001b[0;34m\u001b[0m\u001b[0m\n",
      "\u001b[0;31mFileNotFoundError\u001b[0m: [Errno 2] No such file or directory: '../docs/images/benchmark-decoding-value.svg'"
     ]
    }
   ],
   "source": [
    "ax = plot_comparison(results_value, figsize=(8, 4))\n",
    "ax.set_xlabel(\"Benchmark\")\n",
    "\n",
    "ax.figure.tight_layout()\n",
    "ax.figure.savefig(\"../docs/images/benchmark-decoding-value.svg\")"
   ]
  },
  {
   "cell_type": "code",
   "execution_count": null,
   "metadata": {},
   "outputs": [],
   "source": [
    "ax = plot_comparison(results_view, figsize=(8, 4))\n",
    "ax.set_xlabel(\"Benchmark\")\n",
    "\n",
    "ax.figure.tight_layout()\n",
    "ax.figure.savefig(\"../docs/images/benchmark-decoding-view.svg\")"
   ]
  },
  {
   "cell_type": "code",
   "execution_count": null,
   "metadata": {},
   "outputs": [],
   "source": []
  },
  {
   "cell_type": "code",
   "execution_count": null,
   "metadata": {},
   "outputs": [],
   "source": []
  }
 ]
}